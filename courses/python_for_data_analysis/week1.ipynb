{
 "cells": [
  {
   "cell_type": "markdown",
   "metadata": {},
   "source": [
    "# Python for Data Science\n",
    "  \n",
    "University: UCSanDiegoX  \n",
    "Platform: edX.org  \n",
    "Instructors: Ilkay Altintas and Leo Porter  \n",
    "Student: Jayme Anchante  \n",
    "(Start: 13:00 2017-07-13)"
   ]
  },
  {
   "cell_type": "markdown",
   "metadata": {},
   "source": [
    "# Introduction and Course Information\n",
    "  \n",
    "  \n",
    "Course Staff:  \n",
    "* Instructors:  \n",
    "  \n",
    "Leo Porter: Assistant Teaching Professor in the Computer Science and Engineer Department at UC San Diego  \n",
    "  \n",
    "Ilkay Altintas: Chief Data Science Officer at the San Diego Supercomputer Center (SDSC)  \n",
    "  \n",
    "* Teaching Assistants:\n",
    "  \n",
    "Alok Singh, Computational Data Science Research Specialist, San Diego Supercomputer Center  \n",
    "Andrea Zonca, HPC Applications Specialist, San Diego Supercomputer Center  \n",
    "  \n",
    "  \n",
    "To receive a **MicroMasters Certificate in Data Science** you must receive verified certificates in the following courses:\n",
    "\n",
    "    Python for Data Science\n",
    "    Statistics and Probability in Data Science using Python\n",
    "    Machine Learning for Data Science\n",
    "    Big Data Analytics using Spark\n",
    "  \n",
    "  \n",
    "**Course Outline**\n",
    "\n",
    "The course is broken into 10 weeks.  The beginning of the course is heavily focused on learning the basic tools of data science, but we firmly believe that you learn the most about data science by doing data science.  So the latter half of the course is a combination of working on large projects and introductions to advanced data analysis techniques.\n",
    "\n",
    "    Week 1 - Introduction:  Welcome and overview of the course.  Introduction to the data science process and the value of learning data science.\n",
    "    Week 2 - Background:  In this optional week, we provide a brief background in python or unix to get you up and running.  If you are already familiar with python and/or unix, feel free to skip this content.\n",
    "    Week 3 - Jupyter and Numpy:  Jupyter notebooks are one of the most commonly used tools in data science as they allow you to combine your research notes with the code for the analysis.  After getting started in Jupyter, we'll learn how to use numpy for data analysis.  numpy offers many useful functions for processing data as well as data structures which are time and space efficient.\n",
    "    Week 4 - Pandas:  Pandas, built on top of numpy,  adds data frames which offer critical data analysis functionality and features.\n",
    "    Week 5 - Visualization:  When working with large datasets, you often need to visualize your data to gain a better understanding of it. Also, when you reach conclusions about the data, you'll often wish to use visualizations to present your results.\n",
    "    Week 6 - Mini Project:  With the tools of Jupyter notebooks, numpy, pandas, and Visualization, you're ready to do sophisticated analysis on your own.  You'll pick a dataset we've worked with already and perform an analysis for this first project.\n",
    "    Week 7 - Machine Learning:  To take your data analysis skills one step further, we'll introduce you to the basics of machine learning and how to use sci-kit learn - a powerful library for machine learning.\n",
    "    Week 8 - Working with Text and Databases:  You'll find yourself often working with text data or data from databases.  This week will give you the skills to access that data.  For text data, we'll also give you a preview of how to analyze text data using ideas from the field of Natural Language Processing and how to apply those ideas using the Natural Language Processing Toolkit (NLTK) library.\n",
    "    Week 9 and 10 - Final Project:  These weeks let you showcase all your new skills in an end-to-end data analysis project.  You'll pick the dataset, do the data munging, ask the research questions, visualize the data, draw conclusions, and present your results.\n",
    "(16:00 2017-07-13)"
   ]
  },
  {
   "cell_type": "markdown",
   "metadata": {},
   "source": [
    "# WEEK 1: Getting started with Data Science"
   ]
  },
  {
   "cell_type": "markdown",
   "metadata": {
    "collapsed": true
   },
   "source": [
    "## 1.1. Data Science: Generating Value from Data"
   ]
  },
  {
   "cell_type": "markdown",
   "metadata": {},
   "source": [
    "### 1.1.1. Data Science: Getting Value out of Data\n",
    "  \n",
    "  \n",
    "(10:50 2017-07-14)  \n",
    "  \n",
    "From Big Data take Insights, from Insights take Actions! We make predictions out of data to direct actions. The recent increase in Data Science attention comes from two main facts: i) massive increase in data availability (internet, smartphones, GPS etc.); ii) increase in the computer processing capacity.  \n",
    "  \n",
    "How much data is big data? In one minute, Facebook: 200k photos are uploaded and 1.8M likes are giving, YouTube: 2.78M video views, 72h of video uploads. According to EMC, in 2009 the 'digital world' had 0.8Zb and it will grow to 35.2Zb by 2020. \"We are drowning in information and starving for knowledge\" - John Naisbitt.  \n",
    "  \n",
    "Modern Data Science Skills:  \n",
    "* Programming in Python  \n",
    "* Statistics  \n",
    "* Machine Learning  \n",
    "* Scalable Big Data Analysis"
   ]
  },
  {
   "cell_type": "markdown",
   "metadata": {},
   "source": [
    "### 1.1.2. Why Python for Data Science\n",
    "  \n",
    "  \n",
    "Data Science is in the intersection of Mathematics expertise, Technology (hacking skills) and Bussiness (acumen). Are data scientists are unicorns? Data science is a team sport. Data scientists: have passion for data, relate problems to analytics, care about engineering solutions, exhibit curiosity and communicate with teammates.  \n",
    "  \n",
    "Why Python for Data Science? It is easy to read and learn, vibrant community, growing and evolving set of libraries, applicable to each step in the data science process, jupyter notebooks (reproducible, repeatable, transparet)."
   ]
  },
  {
   "cell_type": "markdown",
   "metadata": {},
   "source": [
    "### 1.1.3. Case Study: Soccer Data Analysis\n",
    "  \n",
    "  \n",
    "A Kaggle database from 25k european soccer matches and 10k players from 2008 to 2016. Our goals are: i) form meaningful player groups; ii) discover other players that are similar to your favorite athlete; and iii) form strong teams by using analytics.  \n",
    "  \n",
    "**Data Collection**: Databases (relational and non-relational), Text files (.csv, .txt, .xls), Live feeds (sensors, twitter, weather).  \n",
    "  \n",
    "~~~\n",
    "df.describe().transpose()\n",
    "~~~\n",
    "\n",
    "**Data cleaning**: why (missings values, garbage values, NULLs), how do we clean (remove entries, impute these entries with a coutnerpart).  \n",
    "  \n",
    "~~~\n",
    "df.isnull().any().any(), df.shape  \n",
    "df = df.dropna()\n",
    "~~~\n",
    "  \n",
    "**Data visualization**  \n",
    "  \n",
    "**Analysis and modeling**: supervised, unsupervised and semi-supervised learning. Feature selection.  \n",
    "Using KMeans:  \n",
    "  \n",
    "~~~\n",
    "from sklearn.cluster import KMeans\n",
    "...\n",
    "y = KMeans(n_clusters=3, random_state=random_state).fit_predict(X)\n",
    "...\n",
    "~~~\n",
    "  \n",
    "Present your findings. Support actions to coaches."
   ]
  },
  {
   "cell_type": "markdown",
   "metadata": {},
   "source": [
    "## 1.2. The Data Science Process"
   ]
  },
  {
   "cell_type": "markdown",
   "metadata": {},
   "source": [
    "### 1.2.1. How Does Data Science Happen\n",
    "  \n",
    "  \n",
    "Key dimensions of Data Science: a multidisciplinary craft that combines an interdisciplinary team with an application purpose. It starts with a team of people with a question (and of course some data to explore) and we come up with a data driven process to answer it (first a conceptual that defines the core set of steps to solve the question). There are mainly two processes: Data Engineering (acquire and prepare) and Computational Data Science (analyze, report and act)"
   ]
  },
  {
   "cell_type": "markdown",
   "metadata": {},
   "source": [
    "### 1.2.2. Asking the Right Question\n",
    "  \n",
    "  \n",
    "Define the problem -> Asses the situation -> Define goals"
   ]
  },
  {
   "cell_type": "markdown",
   "metadata": {},
   "source": [
    "### 1.2.3. Steps in Data Science\n",
    "  \n",
    "  \n",
    "Acquire -> Prepare -> Analyze -> Report -> Act  \n",
    "  \n",
    "**Acquire**: identify datasets, retrieve data, query data  \n",
    "**Prepare**: explore, pre-process (clean, integrate, package)  \n",
    "**Analyze**: select analytical techniques, build models  \n",
    "**Report**: interpret, summarize, visualize and post-process  \n",
    "**Act**: determining actions  \n",
    "  \n",
    "It is an iterative process!"
   ]
  },
  {
   "cell_type": "markdown",
   "metadata": {},
   "source": [
    "### 1.2.4. Step 1: Acquiring Data\n",
    "  \n",
    "  \n",
    "Traditional databases: SQL and query browsers  \n",
    "Text files and spreadsheet  \n",
    "Scripting languages: Python, Ruby, R, Octave, Matlab, Perl, PhP, JavaScript  \n",
    "Webpages: WWW and W3C. Format is XML and JSON. Many websites host services which provides programmatic access to their data, there are several types of web services, the most popular one is REST (Representational State Transfer), which is an approach with performance, scalability and maintainability. WebSocket sevices are also becoming popular. NoSQL storage systems are increasingly used to manage a variety of data types, it consists of data not represented in table format (with columns or rows), some examples are: Cassandra, mongoDB and HBASE."
   ]
  },
  {
   "cell_type": "markdown",
   "metadata": {},
   "source": [
    "### 1.2.5. Step 2A: Exploring Data\n",
    "  \n",
    "  \n",
    "You might be tempted to build a model, but it is better to explore it, by seeing correlations, general trends, outliers. Summary statistics: mean, median, mode, range etc. Visualize it: heat maps, histograms, boxplots, line graphs, scatter plots etc."
   ]
  },
  {
   "cell_type": "markdown",
   "metadata": {},
   "source": [
    "### 1.2.6. Step 2B: Pre-processing Data\n",
    "  \n",
    "  \n",
    "Transform it to make it ready for analysis. First we clean the data, then we transform it. Real-world data is messy: inconsistent values, duplicate records, missings values, invalid data and outliers. It includes: scaling (re-scale variables to range from 0 to 1, for example), transformation (aggregation, from daily to monthly, for example), feature selection (remove redundant, combine or add features), dimensionality reduction (one technique is Principal Component Analysis - PCA) and data manipulation (group observations, for example)."
   ]
  },
  {
   "cell_type": "markdown",
   "metadata": {},
   "source": [
    "### 1.2.7. Step 3: Analyze Data\n",
    "  \n",
    "  \n",
    "Categories of Analysis Techniques: Classification (predict the category), Regression (predict a numeric value). Clustering (organize similar items into groups), Association Analysis (find rules to capture associations between items) and Graph Analysis (use graph structures to find connection between entities).  \n",
    "  \n",
    "Select technique -> Build model -> Validate model"
   ]
  },
  {
   "cell_type": "markdown",
   "metadata": {},
   "source": [
    "### 1.2.8. Reporting Insights\n",
    "Better communicate a clear yet inconclusive result than a clear incorrect story. Visualization is an important part of the report."
   ]
  },
  {
   "cell_type": "markdown",
   "metadata": {},
   "source": [
    "### 1.2.9. Turning Results into Actions\n",
    "Monitor and measure action, and evaluate it."
   ]
  },
  {
   "cell_type": "markdown",
   "metadata": {},
   "source": [
    "### 1.2.10. Conclusion\n",
    "Over the next 9 weeks we will Python!"
   ]
  },
  {
   "cell_type": "markdown",
   "metadata": {},
   "source": [
    "## 1.3. Week 1: Assessment"
   ]
  }
 ],
 "metadata": {
  "kernelspec": {
   "display_name": "Python 3",
   "language": "python",
   "name": "python3"
  },
  "language_info": {
   "codemirror_mode": {
    "name": "ipython",
    "version": 3
   },
   "file_extension": ".py",
   "mimetype": "text/x-python",
   "name": "python",
   "nbconvert_exporter": "python",
   "pygments_lexer": "ipython3",
   "version": "3.6.0"
  }
 },
 "nbformat": 4,
 "nbformat_minor": 2
}
