{
 "cells": [
  {
   "cell_type": "markdown",
   "metadata": {},
   "source": [
    "# Teste de BI\n",
    "Candidato: Jayme Anchante"
   ]
  },
  {
   "cell_type": "markdown",
   "metadata": {},
   "source": [
    "## Questões R Básico:"
   ]
  },
  {
   "cell_type": "code",
   "execution_count": 1,
   "metadata": {
    "collapsed": true
   },
   "outputs": [],
   "source": [
    "# Links para as bases de dados do R:\n",
    "\n",
    "mtcars_link = 'https://raw.githubusercontent.com/vincentarelbundock/Rdatasets/master/csv/datasets/mtcars.csv'\n",
    "quakes_link = 'https://raw.github.com/vincentarelbundock/Rdatasets/master/csv/datasets/quakes.csv'\n",
    "cars_link = 'https://raw.github.com/vincentarelbundock/Rdatasets/master/csv/datasets/cars.csv'"
   ]
  },
  {
   "cell_type": "markdown",
   "metadata": {},
   "source": [
    "### 1. Usando mtcars, trazer a média de miles per galon da marca Mercedez. Atribuir isso a uma variável x."
   ]
  },
  {
   "cell_type": "code",
   "execution_count": 2,
   "metadata": {
    "collapsed": false
   },
   "outputs": [
    {
     "data": {
      "text/html": [
       "<div>\n",
       "<table border=\"1\" class=\"dataframe\">\n",
       "  <thead>\n",
       "    <tr style=\"text-align: right;\">\n",
       "      <th></th>\n",
       "      <th>Unnamed: 0</th>\n",
       "      <th>mpg</th>\n",
       "      <th>cyl</th>\n",
       "      <th>disp</th>\n",
       "      <th>hp</th>\n",
       "      <th>drat</th>\n",
       "      <th>wt</th>\n",
       "      <th>qsec</th>\n",
       "      <th>vs</th>\n",
       "      <th>am</th>\n",
       "      <th>gear</th>\n",
       "      <th>carb</th>\n",
       "    </tr>\n",
       "  </thead>\n",
       "  <tbody>\n",
       "    <tr>\n",
       "      <th>0</th>\n",
       "      <td>Mazda RX4</td>\n",
       "      <td>21.0</td>\n",
       "      <td>6</td>\n",
       "      <td>160.0</td>\n",
       "      <td>110</td>\n",
       "      <td>3.90</td>\n",
       "      <td>2.620</td>\n",
       "      <td>16.46</td>\n",
       "      <td>0</td>\n",
       "      <td>1</td>\n",
       "      <td>4</td>\n",
       "      <td>4</td>\n",
       "    </tr>\n",
       "    <tr>\n",
       "      <th>1</th>\n",
       "      <td>Mazda RX4 Wag</td>\n",
       "      <td>21.0</td>\n",
       "      <td>6</td>\n",
       "      <td>160.0</td>\n",
       "      <td>110</td>\n",
       "      <td>3.90</td>\n",
       "      <td>2.875</td>\n",
       "      <td>17.02</td>\n",
       "      <td>0</td>\n",
       "      <td>1</td>\n",
       "      <td>4</td>\n",
       "      <td>4</td>\n",
       "    </tr>\n",
       "    <tr>\n",
       "      <th>2</th>\n",
       "      <td>Datsun 710</td>\n",
       "      <td>22.8</td>\n",
       "      <td>4</td>\n",
       "      <td>108.0</td>\n",
       "      <td>93</td>\n",
       "      <td>3.85</td>\n",
       "      <td>2.320</td>\n",
       "      <td>18.61</td>\n",
       "      <td>1</td>\n",
       "      <td>1</td>\n",
       "      <td>4</td>\n",
       "      <td>1</td>\n",
       "    </tr>\n",
       "    <tr>\n",
       "      <th>3</th>\n",
       "      <td>Hornet 4 Drive</td>\n",
       "      <td>21.4</td>\n",
       "      <td>6</td>\n",
       "      <td>258.0</td>\n",
       "      <td>110</td>\n",
       "      <td>3.08</td>\n",
       "      <td>3.215</td>\n",
       "      <td>19.44</td>\n",
       "      <td>1</td>\n",
       "      <td>0</td>\n",
       "      <td>3</td>\n",
       "      <td>1</td>\n",
       "    </tr>\n",
       "    <tr>\n",
       "      <th>4</th>\n",
       "      <td>Hornet Sportabout</td>\n",
       "      <td>18.7</td>\n",
       "      <td>8</td>\n",
       "      <td>360.0</td>\n",
       "      <td>175</td>\n",
       "      <td>3.15</td>\n",
       "      <td>3.440</td>\n",
       "      <td>17.02</td>\n",
       "      <td>0</td>\n",
       "      <td>0</td>\n",
       "      <td>3</td>\n",
       "      <td>2</td>\n",
       "    </tr>\n",
       "  </tbody>\n",
       "</table>\n",
       "</div>"
      ],
      "text/plain": [
       "          Unnamed: 0   mpg  cyl   disp   hp  drat     wt   qsec  vs  am  gear  \\\n",
       "0          Mazda RX4  21.0    6  160.0  110  3.90  2.620  16.46   0   1     4   \n",
       "1      Mazda RX4 Wag  21.0    6  160.0  110  3.90  2.875  17.02   0   1     4   \n",
       "2         Datsun 710  22.8    4  108.0   93  3.85  2.320  18.61   1   1     4   \n",
       "3     Hornet 4 Drive  21.4    6  258.0  110  3.08  3.215  19.44   1   0     3   \n",
       "4  Hornet Sportabout  18.7    8  360.0  175  3.15  3.440  17.02   0   0     3   \n",
       "\n",
       "   carb  \n",
       "0     4  \n",
       "1     4  \n",
       "2     1  \n",
       "3     1  \n",
       "4     2  "
      ]
     },
     "execution_count": 2,
     "metadata": {},
     "output_type": "execute_result"
    }
   ],
   "source": [
    "import pandas as pd\n",
    "\n",
    "mtcars = pd.read_csv(mtcars_link)\n",
    "mtcars.head()"
   ]
  },
  {
   "cell_type": "code",
   "execution_count": 3,
   "metadata": {
    "collapsed": false
   },
   "outputs": [
    {
     "data": {
      "text/html": [
       "<div>\n",
       "<table border=\"1\" class=\"dataframe\">\n",
       "  <thead>\n",
       "    <tr style=\"text-align: right;\">\n",
       "      <th></th>\n",
       "      <th>name</th>\n",
       "      <th>mpg</th>\n",
       "      <th>cyl</th>\n",
       "      <th>disp</th>\n",
       "      <th>hp</th>\n",
       "      <th>drat</th>\n",
       "      <th>wt</th>\n",
       "      <th>qsec</th>\n",
       "      <th>vs</th>\n",
       "      <th>am</th>\n",
       "      <th>gear</th>\n",
       "      <th>carb</th>\n",
       "    </tr>\n",
       "  </thead>\n",
       "  <tbody>\n",
       "    <tr>\n",
       "      <th>0</th>\n",
       "      <td>Mazda RX4</td>\n",
       "      <td>21.0</td>\n",
       "      <td>6</td>\n",
       "      <td>160.0</td>\n",
       "      <td>110</td>\n",
       "      <td>3.90</td>\n",
       "      <td>2.620</td>\n",
       "      <td>16.46</td>\n",
       "      <td>0</td>\n",
       "      <td>1</td>\n",
       "      <td>4</td>\n",
       "      <td>4</td>\n",
       "    </tr>\n",
       "    <tr>\n",
       "      <th>1</th>\n",
       "      <td>Mazda RX4 Wag</td>\n",
       "      <td>21.0</td>\n",
       "      <td>6</td>\n",
       "      <td>160.0</td>\n",
       "      <td>110</td>\n",
       "      <td>3.90</td>\n",
       "      <td>2.875</td>\n",
       "      <td>17.02</td>\n",
       "      <td>0</td>\n",
       "      <td>1</td>\n",
       "      <td>4</td>\n",
       "      <td>4</td>\n",
       "    </tr>\n",
       "    <tr>\n",
       "      <th>2</th>\n",
       "      <td>Datsun 710</td>\n",
       "      <td>22.8</td>\n",
       "      <td>4</td>\n",
       "      <td>108.0</td>\n",
       "      <td>93</td>\n",
       "      <td>3.85</td>\n",
       "      <td>2.320</td>\n",
       "      <td>18.61</td>\n",
       "      <td>1</td>\n",
       "      <td>1</td>\n",
       "      <td>4</td>\n",
       "      <td>1</td>\n",
       "    </tr>\n",
       "    <tr>\n",
       "      <th>3</th>\n",
       "      <td>Hornet 4 Drive</td>\n",
       "      <td>21.4</td>\n",
       "      <td>6</td>\n",
       "      <td>258.0</td>\n",
       "      <td>110</td>\n",
       "      <td>3.08</td>\n",
       "      <td>3.215</td>\n",
       "      <td>19.44</td>\n",
       "      <td>1</td>\n",
       "      <td>0</td>\n",
       "      <td>3</td>\n",
       "      <td>1</td>\n",
       "    </tr>\n",
       "    <tr>\n",
       "      <th>4</th>\n",
       "      <td>Hornet Sportabout</td>\n",
       "      <td>18.7</td>\n",
       "      <td>8</td>\n",
       "      <td>360.0</td>\n",
       "      <td>175</td>\n",
       "      <td>3.15</td>\n",
       "      <td>3.440</td>\n",
       "      <td>17.02</td>\n",
       "      <td>0</td>\n",
       "      <td>0</td>\n",
       "      <td>3</td>\n",
       "      <td>2</td>\n",
       "    </tr>\n",
       "  </tbody>\n",
       "</table>\n",
       "</div>"
      ],
      "text/plain": [
       "                name   mpg  cyl   disp   hp  drat     wt   qsec  vs  am  gear  \\\n",
       "0          Mazda RX4  21.0    6  160.0  110  3.90  2.620  16.46   0   1     4   \n",
       "1      Mazda RX4 Wag  21.0    6  160.0  110  3.90  2.875  17.02   0   1     4   \n",
       "2         Datsun 710  22.8    4  108.0   93  3.85  2.320  18.61   1   1     4   \n",
       "3     Hornet 4 Drive  21.4    6  258.0  110  3.08  3.215  19.44   1   0     3   \n",
       "4  Hornet Sportabout  18.7    8  360.0  175  3.15  3.440  17.02   0   0     3   \n",
       "\n",
       "   carb  \n",
       "0     4  \n",
       "1     4  \n",
       "2     1  \n",
       "3     1  \n",
       "4     2  "
      ]
     },
     "execution_count": 3,
     "metadata": {},
     "output_type": "execute_result"
    }
   ],
   "source": [
    "mtcars.rename(columns = {'Unnamed: 0': 'name'}, inplace = True)\n",
    "mtcars.head()"
   ]
  },
  {
   "cell_type": "code",
   "execution_count": 4,
   "metadata": {
    "collapsed": false
   },
   "outputs": [
    {
     "data": {
      "text/plain": [
       "19.014285714285712"
      ]
     },
     "execution_count": 4,
     "metadata": {},
     "output_type": "execute_result"
    }
   ],
   "source": [
    "x = mtcars.mpg[mtcars.name.str[:4] == 'Merc'].mean()\n",
    "x"
   ]
  },
  {
   "cell_type": "markdown",
   "metadata": {},
   "source": [
    "### 2. Testar se há correlação entre o peso do carro e o consumo de gasolina. Existe? Por quê?"
   ]
  },
  {
   "cell_type": "code",
   "execution_count": 5,
   "metadata": {
    "collapsed": false
   },
   "outputs": [
    {
     "data": {
      "text/html": [
       "<div>\n",
       "<table border=\"1\" class=\"dataframe\">\n",
       "  <thead>\n",
       "    <tr style=\"text-align: right;\">\n",
       "      <th></th>\n",
       "      <th>mpg</th>\n",
       "      <th>wt</th>\n",
       "    </tr>\n",
       "  </thead>\n",
       "  <tbody>\n",
       "    <tr>\n",
       "      <th>mpg</th>\n",
       "      <td>1.000000</td>\n",
       "      <td>-0.867659</td>\n",
       "    </tr>\n",
       "    <tr>\n",
       "      <th>wt</th>\n",
       "      <td>-0.867659</td>\n",
       "      <td>1.000000</td>\n",
       "    </tr>\n",
       "  </tbody>\n",
       "</table>\n",
       "</div>"
      ],
      "text/plain": [
       "          mpg        wt\n",
       "mpg  1.000000 -0.867659\n",
       "wt  -0.867659  1.000000"
      ]
     },
     "execution_count": 5,
     "metadata": {},
     "output_type": "execute_result"
    }
   ],
   "source": [
    "mtcars[['mpg', 'wt']].corr()"
   ]
  },
  {
   "cell_type": "code",
   "execution_count": 6,
   "metadata": {
    "collapsed": false
   },
   "outputs": [
    {
     "name": "stderr",
     "output_type": "stream",
     "text": [
      "/home/jayme/anaconda3/lib/python3.6/site-packages/statsmodels/nonparametric/kdetools.py:20: VisibleDeprecationWarning: using a non-integer number instead of an integer will result in an error in the future\n",
      "  y = X[:m/2+1] + np.r_[0,X[m/2+1:],0]*1j\n"
     ]
    },
    {
     "data": {
      "image/png": "[encoded data removed]",
      "text/plain": [
       "<matplotlib.figure.Figure at 0x7f8d1be99978>"
      ]
     },
     "metadata": {},
     "output_type": "display_data"
    }
   ],
   "source": [
    "%matplotlib inline\n",
    "import seaborn as sns\n",
    "import matplotlib.pyplot as plt; plt.style.use('ggplot')\n",
    "\n",
    "mpg_wt = mtcars[['mpg', 'wt']]\n",
    "\n",
    "joint = sns.jointplot('wt', 'mpg', data = mpg_wt, kind = 'reg', size = 12)\n",
    "plt.subplots_adjust(top=0.95)\n",
    "joint.fig.suptitle('Correlação entre peso do veículo e consumo de combustível', fontsize = 28)\n",
    "plt.xlabel('peso (1000 lbs) ', fontsize = 22)\n",
    "plt.ylabel('consumo (Miles/(US) gallon)', fontsize = 22);"
   ]
  },
  {
   "cell_type": "markdown",
   "metadata": {},
   "source": [
    "<font size=\"4\"> Há \"forte\" correlação linear negativa ou inversa entre peso e quilometragem dos veículos: quanto maior o peso, menor a quilometragem. Provavelmente, o motor \"exige\" mais combustível de veículos mais pesados do que dos mais leves para locomover-se. </font>"
   ]
  },
  {
   "cell_type": "markdown",
   "metadata": {},
   "source": [
    "### 3. Usando quakes, qual é a maior magnitude de um terremoto? e qual a magnitude média? e o desvio entre as magnitudes?"
   ]
  },
  {
   "cell_type": "code",
   "execution_count": 7,
   "metadata": {
    "collapsed": false
   },
   "outputs": [
    {
     "data": {
      "text/html": [
       "<div>\n",
       "<table border=\"1\" class=\"dataframe\">\n",
       "  <thead>\n",
       "    <tr style=\"text-align: right;\">\n",
       "      <th></th>\n",
       "      <th>Unnamed: 0</th>\n",
       "      <th>lat</th>\n",
       "      <th>long</th>\n",
       "      <th>depth</th>\n",
       "      <th>mag</th>\n",
       "      <th>stations</th>\n",
       "    </tr>\n",
       "  </thead>\n",
       "  <tbody>\n",
       "    <tr>\n",
       "      <th>0</th>\n",
       "      <td>1</td>\n",
       "      <td>-20.42</td>\n",
       "      <td>181.62</td>\n",
       "      <td>562</td>\n",
       "      <td>4.8</td>\n",
       "      <td>41</td>\n",
       "    </tr>\n",
       "    <tr>\n",
       "      <th>1</th>\n",
       "      <td>2</td>\n",
       "      <td>-20.62</td>\n",
       "      <td>181.03</td>\n",
       "      <td>650</td>\n",
       "      <td>4.2</td>\n",
       "      <td>15</td>\n",
       "    </tr>\n",
       "    <tr>\n",
       "      <th>2</th>\n",
       "      <td>3</td>\n",
       "      <td>-26.00</td>\n",
       "      <td>184.10</td>\n",
       "      <td>42</td>\n",
       "      <td>5.4</td>\n",
       "      <td>43</td>\n",
       "    </tr>\n",
       "    <tr>\n",
       "      <th>3</th>\n",
       "      <td>4</td>\n",
       "      <td>-17.97</td>\n",
       "      <td>181.66</td>\n",
       "      <td>626</td>\n",
       "      <td>4.1</td>\n",
       "      <td>19</td>\n",
       "    </tr>\n",
       "    <tr>\n",
       "      <th>4</th>\n",
       "      <td>5</td>\n",
       "      <td>-20.42</td>\n",
       "      <td>181.96</td>\n",
       "      <td>649</td>\n",
       "      <td>4.0</td>\n",
       "      <td>11</td>\n",
       "    </tr>\n",
       "  </tbody>\n",
       "</table>\n",
       "</div>"
      ],
      "text/plain": [
       "   Unnamed: 0    lat    long  depth  mag  stations\n",
       "0           1 -20.42  181.62    562  4.8        41\n",
       "1           2 -20.62  181.03    650  4.2        15\n",
       "2           3 -26.00  184.10     42  5.4        43\n",
       "3           4 -17.97  181.66    626  4.1        19\n",
       "4           5 -20.42  181.96    649  4.0        11"
      ]
     },
     "execution_count": 7,
     "metadata": {},
     "output_type": "execute_result"
    }
   ],
   "source": [
    "quakes = pd.read_csv(quakes_link)\n",
    "quakes.head()"
   ]
  },
  {
   "cell_type": "code",
   "execution_count": 8,
   "metadata": {
    "collapsed": false
   },
   "outputs": [
    {
     "name": "stdout",
     "output_type": "stream",
     "text": [
      "A maior magnitude de um terremoto é 6.4 na escala Richter!\n"
     ]
    }
   ],
   "source": [
    "quakes.rename(columns = {'Unnamed: 0': 'id'}, inplace = True)\n",
    "\n",
    "print('A maior magnitude de um terremoto é', quakes['mag'].max(), 'na escala Richter!')"
   ]
  },
  {
   "cell_type": "code",
   "execution_count": 9,
   "metadata": {
    "collapsed": false
   },
   "outputs": [
    {
     "name": "stdout",
     "output_type": "stream",
     "text": [
      "A magnitude média é de 4.6204 na escala Richter\n"
     ]
    }
   ],
   "source": [
    "print('A magnitude média é de', round(quakes['mag'].mean(), 4), 'na escala Richter')"
   ]
  },
  {
   "cell_type": "code",
   "execution_count": 10,
   "metadata": {
    "collapsed": false
   },
   "outputs": [
    {
     "name": "stdout",
     "output_type": "stream",
     "text": [
      "O desvio das magnitudes é de 0.4028\n"
     ]
    }
   ],
   "source": [
    "print('O desvio das magnitudes é de', round(quakes['mag'].std(), 4))"
   ]
  },
  {
   "cell_type": "markdown",
   "metadata": {},
   "source": [
    "### 4. Usando cars, qual é a distância de frenagem se o carro estiver a 90 milhas por hora."
   ]
  },
  {
   "cell_type": "code",
   "execution_count": 11,
   "metadata": {
    "collapsed": false
   },
   "outputs": [
    {
     "data": {
      "text/html": [
       "<div>\n",
       "<table border=\"1\" class=\"dataframe\">\n",
       "  <thead>\n",
       "    <tr style=\"text-align: right;\">\n",
       "      <th></th>\n",
       "      <th>Unnamed: 0</th>\n",
       "      <th>speed</th>\n",
       "      <th>dist</th>\n",
       "    </tr>\n",
       "  </thead>\n",
       "  <tbody>\n",
       "    <tr>\n",
       "      <th>45</th>\n",
       "      <td>46</td>\n",
       "      <td>24</td>\n",
       "      <td>70</td>\n",
       "    </tr>\n",
       "    <tr>\n",
       "      <th>46</th>\n",
       "      <td>47</td>\n",
       "      <td>24</td>\n",
       "      <td>92</td>\n",
       "    </tr>\n",
       "    <tr>\n",
       "      <th>47</th>\n",
       "      <td>48</td>\n",
       "      <td>24</td>\n",
       "      <td>93</td>\n",
       "    </tr>\n",
       "    <tr>\n",
       "      <th>48</th>\n",
       "      <td>49</td>\n",
       "      <td>24</td>\n",
       "      <td>120</td>\n",
       "    </tr>\n",
       "    <tr>\n",
       "      <th>49</th>\n",
       "      <td>50</td>\n",
       "      <td>25</td>\n",
       "      <td>85</td>\n",
       "    </tr>\n",
       "  </tbody>\n",
       "</table>\n",
       "</div>"
      ],
      "text/plain": [
       "    Unnamed: 0  speed  dist\n",
       "45          46     24    70\n",
       "46          47     24    92\n",
       "47          48     24    93\n",
       "48          49     24   120\n",
       "49          50     25    85"
      ]
     },
     "execution_count": 11,
     "metadata": {},
     "output_type": "execute_result"
    }
   ],
   "source": [
    "cars = pd.read_csv(cars_link)\n",
    "cars.tail()"
   ]
  },
  {
   "cell_type": "code",
   "execution_count": 12,
   "metadata": {
    "collapsed": false
   },
   "outputs": [
    {
     "data": {
      "text/plain": [
       "25"
      ]
     },
     "execution_count": 12,
     "metadata": {},
     "output_type": "execute_result"
    }
   ],
   "source": [
    "del cars['Unnamed: 0']\n",
    "\n",
    "cars['speed'].max()"
   ]
  },
  {
   "cell_type": "code",
   "execution_count": 13,
   "metadata": {
    "collapsed": false
   },
   "outputs": [
    {
     "name": "stderr",
     "output_type": "stream",
     "text": [
      "/home/jayme/anaconda3/lib/python3.6/site-packages/statsmodels/nonparametric/kdetools.py:20: VisibleDeprecationWarning: using a non-integer number instead of an integer will result in an error in the future\n",
      "  y = X[:m/2+1] + np.r_[0,X[m/2+1:],0]*1j\n"
     ]
    },
    {
     "data": {
      "image/png": "[encoded data removed]",
      "text/plain": [
       "<matplotlib.figure.Figure at 0x7f8d0e37cf98>"
      ]
     },
     "metadata": {},
     "output_type": "display_data"
    }
   ],
   "source": [
    "joint = sns.jointplot('speed', 'dist', data = cars, kind = 'reg', size = 12)\n",
    "plt.subplots_adjust(top=0.95)\n",
    "joint.fig.suptitle('Correlação entre a velocidade e a distância de frenagem', fontsize = 28)\n",
    "plt.xlabel('velocidade (mph)', fontsize = 22)\n",
    "plt.ylabel('distância (ft)', fontsize = 22);"
   ]
  },
  {
   "cell_type": "code",
   "execution_count": 14,
   "metadata": {
    "collapsed": false
   },
   "outputs": [
    {
     "name": "stderr",
     "output_type": "stream",
     "text": [
      "/home/jayme/anaconda3/lib/python3.6/site-packages/ipykernel/__main__.py:1: FutureWarning: reshape is deprecated and will raise in a subsequent release. Please use .values.reshape(...) instead\n",
      "  if __name__ == '__main__':\n",
      "/home/jayme/anaconda3/lib/python3.6/site-packages/ipykernel/__main__.py:2: FutureWarning: reshape is deprecated and will raise in a subsequent release. Please use .values.reshape(...) instead\n",
      "  from ipykernel import kernelapp as app\n"
     ]
    }
   ],
   "source": [
    "speed = cars['speed'].reshape(50, 1)\n",
    "dist = cars['dist'].reshape(50, 1)"
   ]
  },
  {
   "cell_type": "code",
   "execution_count": 15,
   "metadata": {
    "collapsed": false,
    "scrolled": true
   },
   "outputs": [
    {
     "data": {
      "text/plain": [
       "array([[ 3.93240876]])"
      ]
     },
     "execution_count": 15,
     "metadata": {},
     "output_type": "execute_result"
    }
   ],
   "source": [
    "from sklearn import linear_model\n",
    "\n",
    "reg = linear_model.LinearRegression()\n",
    "reg.fit(X = speed, y = dist)\n",
    "reg.coef_"
   ]
  },
  {
   "cell_type": "code",
   "execution_count": 16,
   "metadata": {
    "collapsed": false
   },
   "outputs": [
    {
     "name": "stdout",
     "output_type": "stream",
     "text": [
      "A distância de frenagem é de [[ 336.33769343]] ft caso o carro esteja a 90 mph\n"
     ]
    }
   ],
   "source": [
    "print('A distância de frenagem é de', reg.predict(90), 'ft caso o carro esteja a 90 mph')"
   ]
  },
  {
   "cell_type": "markdown",
   "metadata": {},
   "source": [
    "## Questões SQL Básico:"
   ]
  },
  {
   "cell_type": "markdown",
   "metadata": {},
   "source": [
    "### 1. Dadas as tabelas abaixo:"
   ]
  },
  {
   "cell_type": "code",
   "execution_count": 17,
   "metadata": {
    "collapsed": false
   },
   "outputs": [],
   "source": [
    "import sqlite3\n",
    "\n",
    "conn = sqlite3.connect('example.db')"
   ]
  },
  {
   "cell_type": "code",
   "execution_count": 18,
   "metadata": {
    "collapsed": false,
    "scrolled": true
   },
   "outputs": [],
   "source": [
    "c = conn.cursor()\n",
    "\n",
    "# Create table\n",
    "c.execute('''CREATE TABLE users\n",
    "             (id int, name text)''')\n",
    "\n",
    "c.execute('''CREATE TABLE tasks\n",
    "            (id int, event text, id_resp int)''')\n",
    "\n",
    "# Insert a row of data\n",
    "c.execute('''INSERT INTO users VALUES\n",
    "            (1, 'Igor Sanchez'),\n",
    "            (2, 'Joao Junior'),\n",
    "            (3, 'Rodrigo Pinto'),\n",
    "            (4, 'Amandio Pereira'),\n",
    "            (5, 'Karoline Leal')''')\n",
    "\n",
    "# Insert a row of data\n",
    "c.execute('''INSERT INTO tasks VALUES\n",
    "            (1, 'send report', 3),\n",
    "            (2, 'drink coffee', 2),\n",
    "            (3, 'travel CWB', 3),\n",
    "            (4, 'call mkt', 6)''')\n",
    "\n",
    "# Save (commit) the changes\n",
    "conn.commit()"
   ]
  },
  {
   "cell_type": "code",
   "execution_count": 19,
   "metadata": {
    "collapsed": false
   },
   "outputs": [
    {
     "name": "stdout",
     "output_type": "stream",
     "text": [
      "(1, 'Igor Sanchez')\n",
      "(2, 'Joao Junior')\n",
      "(3, 'Rodrigo Pinto')\n",
      "(4, 'Amandio Pereira')\n",
      "(5, 'Karoline Leal')\n"
     ]
    }
   ],
   "source": [
    "for row in c.execute(\"SELECT * from users\"):\n",
    "    print(row)"
   ]
  },
  {
   "cell_type": "code",
   "execution_count": 20,
   "metadata": {
    "collapsed": false
   },
   "outputs": [
    {
     "name": "stdout",
     "output_type": "stream",
     "text": [
      "(1, 'send report', 3)\n",
      "(2, 'drink coffee', 2)\n",
      "(3, 'travel CWB', 3)\n",
      "(4, 'call mkt', 6)\n"
     ]
    }
   ],
   "source": [
    "for row in c.execute(\"SELECT * from tasks\"):\n",
    "    print(row)"
   ]
  },
  {
   "cell_type": "markdown",
   "metadata": {},
   "source": [
    "Qual o resultado da query abaixo?  \n",
    "SELECT * FROM users LEFT JOIN tasks ON users.id = tasks.id_resp;"
   ]
  },
  {
   "cell_type": "code",
   "execution_count": 21,
   "metadata": {
    "collapsed": false
   },
   "outputs": [
    {
     "name": "stdout",
     "output_type": "stream",
     "text": [
      "(1, 'Igor Sanchez', None, None, None)\n",
      "(2, 'Joao Junior', 2, 'drink coffee', 2)\n",
      "(3, 'Rodrigo Pinto', 1, 'send report', 3)\n",
      "(3, 'Rodrigo Pinto', 3, 'travel CWB', 3)\n",
      "(4, 'Amandio Pereira', None, None, None)\n",
      "(5, 'Karoline Leal', None, None, None)\n"
     ]
    }
   ],
   "source": [
    "for row in c.execute('''SELECT * FROM users\n",
    "                    LEFT JOIN tasks\n",
    "                    ON users.id = tasks.id_resp'''):\n",
    "    print(row)"
   ]
  },
  {
   "cell_type": "markdown",
   "metadata": {},
   "source": [
    "<font size=\"4\"> A query retorna todos os valores da tabela da esquerda (users), os registros pareados na tabela da direita (tasks). O resultado é NULL (NA em R, None em Python) na tabela da direita nas linhas não pareadas.</font>"
   ]
  },
  {
   "cell_type": "markdown",
   "metadata": {},
   "source": [
    "### 2. Especifique cada tipo de JOIN:\n",
    "  \n",
    "  \n",
    "• **Left Join**: A query retorna todos os valores da tabela da esquerda, os registros pareados na tabela da direita. O resultado é NULL (NA em R, None em Python) na tabela da direita nas linhas não pareadas.  \n",
    "  \n",
    "• **Right Join**: A query retorna todos os valores da tabela da direita, os registros pareados na tabela da esquerda. O resultado é NULL (NA em R, None em Python) na tabela da esquerda nas linhas não pareadas.  \n",
    "  \n",
    "• **Inner Join**: A query retorna apenas registros em que houve pareamento de valores em ambas as tabelas.  \n",
    "  \n",
    "• **Full Join**: A query retorna todos os registros em que houve pareamento ou na tabela da esquerda ou na tabela da direita. Ou seja, retorna todos os valores de ambas as tabelas."
   ]
  },
  {
   "cell_type": "markdown",
   "metadata": {},
   "source": [
    "### 3. O que é uma chave primária de uma tabela?"
   ]
  },
  {
   "cell_type": "markdown",
   "metadata": {},
   "source": [
    "A chave primária identifica de forma exclusiva cada registro de uma tabela.  \n",
    "A chave primária deve conter apenas valores únicos, e não pode conter valores NULL (NA em R, None em Python).  \n",
    "Uma tabela pode conter apenas uma chave primária, que pode consistir de uma ou múltiplos campos (colunas)."
   ]
  },
  {
   "cell_type": "markdown",
   "metadata": {},
   "source": [
    "### 4. Quais dessas funções são destinadas a agregação de dados, GROUP BY?\n",
    "LEN(), RIGHT(), SUM(), REPLACE(), COUNT(), CONCAT(), ABS()"
   ]
  },
  {
   "cell_type": "markdown",
   "metadata": {},
   "source": [
    "As funções de agregação de dados utilizadas com GROUP BY nessa amostra são SUM() e COUNT()."
   ]
  },
  {
   "cell_type": "markdown",
   "metadata": {},
   "source": [
    "### 5. Dado a tabela:"
   ]
  },
  {
   "cell_type": "code",
   "execution_count": 22,
   "metadata": {
    "collapsed": false
   },
   "outputs": [],
   "source": [
    "# Create table\n",
    "c.execute('''CREATE TABLE firmas\n",
    "            (id int, periodo int, estado text, origem text, qtd_users int)''')\n",
    "\n",
    "# Insert a row of data\n",
    "c.execute('''INSERT INTO firmas VALUES\n",
    "            (3, 201705, 'PR', 'MGservico', 80),\n",
    "            (1, 201705, 'PR', 'MGservico', 100),\n",
    "            (2, 201705, 'PR', 'MGservico', 110),\n",
    "            (4, 201705, 'RS', 'MGcomercio', 50),\n",
    "            (5, 201706, 'RS', 'MGcomercio', 200),\n",
    "            (6, 201706, 'SP', 'Abertura', 250),\n",
    "            (7, 201706, 'SP', 'Abertura', 400),\n",
    "            (8, 201706, 'SP', 'Abertura', 310)''')\n",
    "\n",
    "# Save (commit) the changes\n",
    "conn.commit()"
   ]
  },
  {
   "cell_type": "code",
   "execution_count": 23,
   "metadata": {
    "collapsed": false
   },
   "outputs": [
    {
     "name": "stdout",
     "output_type": "stream",
     "text": [
      "(3, 201705, 'PR', 'MGservico', 80)\n",
      "(1, 201705, 'PR', 'MGservico', 100)\n",
      "(2, 201705, 'PR', 'MGservico', 110)\n",
      "(4, 201705, 'RS', 'MGcomercio', 50)\n",
      "(5, 201706, 'RS', 'MGcomercio', 200)\n",
      "(6, 201706, 'SP', 'Abertura', 250)\n",
      "(7, 201706, 'SP', 'Abertura', 400)\n",
      "(8, 201706, 'SP', 'Abertura', 310)\n"
     ]
    }
   ],
   "source": [
    "for row in c.execute(\"SELECT * from firmas\"):\n",
    "    print(row)"
   ]
  },
  {
   "cell_type": "markdown",
   "metadata": {},
   "source": [
    "a. Escreva a clausula WHERE que retorne as quantidades do período 201705 para o estado do PR quando as quantidades forem superiores a 80."
   ]
  },
  {
   "cell_type": "code",
   "execution_count": 24,
   "metadata": {
    "collapsed": false
   },
   "outputs": [
    {
     "name": "stdout",
     "output_type": "stream",
     "text": [
      "(1, 201705, 'PR', 'MGservico', 100)\n",
      "(2, 201705, 'PR', 'MGservico', 110)\n"
     ]
    }
   ],
   "source": [
    "for row in c.execute('''SELECT * FROM firmas\n",
    "            WHERE periodo = 201705 AND estado = \"PR\" AND qtd_users > 80 '''):\n",
    "    print(row)"
   ]
  },
  {
   "cell_type": "markdown",
   "metadata": {},
   "source": [
    "b. Quais id linhas serão retornadas?"
   ]
  },
  {
   "cell_type": "markdown",
   "metadata": {},
   "source": [
    "As linhas id cujo valor são 1 e 2."
   ]
  },
  {
   "cell_type": "markdown",
   "metadata": {},
   "source": [
    "### 6. Dadas as tabelas abaixo:"
   ]
  },
  {
   "cell_type": "code",
   "execution_count": 25,
   "metadata": {
    "collapsed": false
   },
   "outputs": [],
   "source": [
    "c = conn.cursor()\n",
    "\n",
    "c.execute(\"DROP TABLE users\")\n",
    "c.execute(\"DROP TABLE tasks\")\n",
    "\n",
    "# Create table\n",
    "c.execute('''CREATE TABLE users\n",
    "             (id int, name text, status text)''')\n",
    "\n",
    "c.execute('''CREATE TABLE tasks\n",
    "            (id int, event text, id_resp int, status text)''')\n",
    "\n",
    "# Insert a row of data\n",
    "c.execute('''INSERT INTO users VALUES\n",
    "            (1, 'Igor Sanchez', 'ativo'),\n",
    "            (2, 'Joao Junior', 'ativo'),\n",
    "            (3, 'Rodrigo Pinto', 'inativo'),\n",
    "            (4, 'Amandio Pereira', 'inativo'),\n",
    "            (5, 'Karoline Leal', 'ativo')''')\n",
    "\n",
    "# Insert a row of data\n",
    "c.execute('''INSERT INTO tasks VALUES\n",
    "            (1, 'send report', 3, 'null'),\n",
    "            (2, 'drink coffee', 2, 'undone'),\n",
    "            (3, 'travel CWB', 3, 'null'),\n",
    "            (4, 'call mkt', 6, 'done'),\n",
    "            (5, 'feed the badger', 2, 'undone'),\n",
    "            (4, 'buy a badger', 6, 'done')''')\n",
    "\n",
    "# Save (commit) the changes\n",
    "conn.commit()"
   ]
  },
  {
   "cell_type": "code",
   "execution_count": 26,
   "metadata": {
    "collapsed": false
   },
   "outputs": [
    {
     "name": "stdout",
     "output_type": "stream",
     "text": [
      "(1, 'Igor Sanchez', 'ativo')\n",
      "(2, 'Joao Junior', 'ativo')\n",
      "(3, 'Rodrigo Pinto', 'inativo')\n",
      "(4, 'Amandio Pereira', 'inativo')\n",
      "(5, 'Karoline Leal', 'ativo')\n"
     ]
    }
   ],
   "source": [
    "for row in c.execute(\"SELECT * from users\"):\n",
    "    print(row)"
   ]
  },
  {
   "cell_type": "code",
   "execution_count": 27,
   "metadata": {
    "collapsed": false
   },
   "outputs": [
    {
     "name": "stdout",
     "output_type": "stream",
     "text": [
      "(1, 'send report', 3, 'null')\n",
      "(2, 'drink coffee', 2, 'undone')\n",
      "(3, 'travel CWB', 3, 'null')\n",
      "(4, 'call mkt', 6, 'done')\n",
      "(5, 'feed the badger', 2, 'undone')\n",
      "(4, 'buy a badger', 6, 'done')\n"
     ]
    }
   ],
   "source": [
    "for row in c.execute(\"SELECT * FROM tasks\"):\n",
    "    print(row)"
   ]
  },
  {
   "cell_type": "markdown",
   "metadata": {},
   "source": [
    "a. Faça uma query contendo o resultado das duas tabelas juntas, renomenando o campo status da tabela users para funcionario_ativo."
   ]
  },
  {
   "cell_type": "markdown",
   "metadata": {},
   "source": [
    "A query seria:"
   ]
  },
  {
   "cell_type": "code",
   "execution_count": 28,
   "metadata": {
    "collapsed": false
   },
   "outputs": [
    {
     "name": "stderr",
     "output_type": "stream",
     "text": [
      "ERROR:root:An unexpected error occurred while tokenizing input\n",
      "The following traceback may be corrupted or invalid\n",
      "The error message is: ('EOF in multi-line string', (1, 73))\n",
      "\n"
     ]
    },
    {
     "ename": "OperationalError",
     "evalue": "RIGHT and FULL OUTER JOINs are not currently supported",
     "output_type": "error",
     "traceback": [
      "\u001b[0;31m---------------------------------------------------------------------------\u001b[0m",
      "\u001b[0;31mOperationalError\u001b[0m                          Traceback (most recent call last)",
      "\u001b[0;32m<ipython-input-28-f91a8b9deab4>\u001b[0m in \u001b[0;36m<module>\u001b[0;34m()\u001b[0m\n\u001b[1;32m      1\u001b[0m for row in c.execute('''SELECT *, users.status AS funcionario_ativo FROM users\n\u001b[0;32m----> 2\u001b[0;31m                         FULL OUTER JOIN tasks ON users.id = tasks.id_resp'''):\n\u001b[0m\u001b[1;32m      3\u001b[0m     \u001b[0mprint\u001b[0m\u001b[0;34m(\u001b[0m\u001b[0mrow\u001b[0m\u001b[0;34m)\u001b[0m\u001b[0;34m\u001b[0m\u001b[0m\n",
      "\u001b[0;31mOperationalError\u001b[0m: RIGHT and FULL OUTER JOINs are not currently supported"
     ]
    }
   ],
   "source": [
    "for row in c.execute('''SELECT *, users.status AS funcionario_ativo FROM users\n",
    "                        FULL OUTER JOIN tasks ON users.id = tasks.id_resp'''):\n",
    "    print(row)"
   ]
  },
  {
   "cell_type": "markdown",
   "metadata": {},
   "source": [
    "Entretanto, SQLite não suporta RIGHT e FULL OUTER JOIN. Portanto, eu tive que \"emular\" o comando FULL OUTER JOIN usando as cláusulas UNION e LEFT JOIN.  \n",
    "  \n",
    "Fonte: http://www.sqlitetutorial.net/sqlite-full-outer-join/"
   ]
  },
  {
   "cell_type": "code",
   "execution_count": 29,
   "metadata": {
    "collapsed": false
   },
   "outputs": [
    {
     "name": "stdout",
     "output_type": "stream",
     "text": [
      "(1, 'Igor Sanchez', 'ativo', None, None, None, None)\n",
      "(2, 'Joao Junior', 'ativo', 2, 'drink coffee', 2, 'undone')\n",
      "(2, 'Joao Junior', 'ativo', 5, 'feed the badger', 2, 'undone')\n",
      "(3, 'Rodrigo Pinto', 'inativo', 1, 'send report', 3, 'null')\n",
      "(3, 'Rodrigo Pinto', 'inativo', 3, 'travel CWB', 3, 'null')\n",
      "(4, 'Amandio Pereira', 'inativo', None, None, None, None)\n",
      "(5, 'Karoline Leal', 'ativo', None, None, None, None)\n",
      "(None, None, None, 4, 'call mkt', 6, 'done')\n",
      "(None, None, None, 4, 'buy a badger', 6, 'done')\n"
     ]
    }
   ],
   "source": [
    "for row in c.execute('''SELECT u.id, u.name, u.status AS funcionário_ativo, t.id, t.event, t.id_resp, t.status\n",
    "                        FROM users u\n",
    "                        LEFT JOIN tasks t ON u.id = t.id_resp\n",
    "                        UNION ALL\n",
    "                        SELECT u.id, u.name, u.status, t.id, t.event, t.id_resp, t.status\n",
    "                        FROM tasks t\n",
    "                        LEFT JOIN users u ON u.id = t.id_resp\n",
    "                        WHERE u.status IS NULL'''):\n",
    "    print(row)"
   ]
  },
  {
   "cell_type": "markdown",
   "metadata": {},
   "source": [
    "b. Faça outra query que traga os eventos com o nome do responsável. O resultado não deve trazer os campos de status de ambas tabelas, porém deve trazer um novo campo de status_do_evento que deve construindo da seguinte forma:  \n",
    "  \n",
    "• se o status do funcionário for ativo e o status do evento for done, marcar como sucesso  \n",
    "• se o status do funcionário for ativo e o status do evento for undone, marcar como falha  \n",
    "• se o status do funcionário for inativo e o status do evento for nulo, marcar como reatribuir"
   ]
  },
  {
   "cell_type": "code",
   "execution_count": 30,
   "metadata": {
    "collapsed": false
   },
   "outputs": [
    {
     "name": "stdout",
     "output_type": "stream",
     "text": [
      "('Rodrigo Pinto', 'send report', 'reatribuir')\n",
      "('Joao Junior', 'drink coffee', 'falha')\n",
      "('Rodrigo Pinto', 'travel CWB', 'reatribuir')\n",
      "(None, 'call mkt', None)\n",
      "('Joao Junior', 'feed the badger', 'falha')\n",
      "(None, 'buy a badger', None)\n"
     ]
    }
   ],
   "source": [
    "for row in c.execute('''SELECT users.name, tasks.event, CASE\n",
    "                        WHEN users.status = \"ativo\" AND tasks.status = \"done\" THEN \"sucesso\"\n",
    "                        WHEN users.status = \"ativo\" AND tasks.status = \"undone\" THEN \"falha\"\n",
    "                        WHEN users.status = \"inativo\" AND tasks.status = \"null\" then \"reatribuir\"\n",
    "                        END AS status_do_evento FROM tasks\n",
    "                        LEFT JOIN users\n",
    "                        ON users.id = tasks.id_resp'''):\n",
    "    print(row)"
   ]
  },
  {
   "cell_type": "code",
   "execution_count": 31,
   "metadata": {
    "collapsed": true
   },
   "outputs": [],
   "source": [
    "# We can also close the connection if we are done with it.\n",
    "# Just be sure any changes have been committed or they will be lost.\n",
    "conn.close()"
   ]
  }
 ],
 "metadata": {
  "kernelspec": {
   "display_name": "Python 3",
   "language": "python",
   "name": "python3"
  },
  "language_info": {
   "codemirror_mode": {
    "name": "ipython",
    "version": 3
   },
   "file_extension": ".py",
   "mimetype": "text/x-python",
   "name": "python",
   "nbconvert_exporter": "python",
   "pygments_lexer": "ipython3",
   "version": "3.6.0"
  }
 },
 "nbformat": 4,
 "nbformat_minor": 2
}
